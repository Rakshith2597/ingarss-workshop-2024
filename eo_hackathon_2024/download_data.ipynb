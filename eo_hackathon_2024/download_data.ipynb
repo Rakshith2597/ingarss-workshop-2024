{
 "cells": [
  {
   "cell_type": "code",
   "execution_count": 7,
   "id": "0aaf9e19-2928-4e96-80bc-f927742fa55b",
   "metadata": {},
   "outputs": [],
   "source": [
    "import requests\n",
    "import pandas as pd\n"
   ]
  },
  {
   "cell_type": "code",
   "execution_count": 8,
   "id": "4a41cad5-f9f2-4daf-9f22-9b19f81c0ba1",
   "metadata": {},
   "outputs": [],
   "source": [
    "DATA_URI = \"https://satsure-eodata-hackathon-2024-s3-01.s3.ap-south-1.amazonaws.com/data/data.json\"\n",
    "response = requests.get(DATA_URI)\n",
    "\n",
    "if response.status_code == 200:\n",
    "    files = response.json()\n",
    "else:\n",
    "    print(f\"Failed to fetch data. Status code: {response.status_code}\")"
   ]
  },
  {
   "cell_type": "code",
   "execution_count": 9,
   "id": "fdb739b7-63a6-4d31-bc1d-229e5c13ea58",
   "metadata": {},
   "outputs": [
    {
     "name": "stdout",
     "output_type": "stream",
     "text": [
      "        region_id  year  month  day  8_day_sum\n",
      "0  91020002001000  2019      1    1   3.330133\n",
      "1  91020002002000  2019      1    1   3.657354\n",
      "2  91020002003000  2019      1    1   3.570744\n",
      "3  91020002004000  2019      1    1   4.401272\n",
      "4  91020002005000  2019      1    1   2.213497\n"
     ]
    }
   ],
   "source": [
    "# read evt data\n",
    "evt_data = pd.read_csv(files['evt_data'])\n",
    "print(evt_data.head())"
   ]
  },
  {
   "cell_type": "code",
   "execution_count": 10,
   "id": "40514ad8-e0e0-4cf3-a88d-e949c1634dc8",
   "metadata": {},
   "outputs": [
    {
     "name": "stdout",
     "output_type": "stream",
     "text": [
      "        region_id  year  month  day  daily_sum\n",
      "0  91020002001000  2019      1    1        0.0\n",
      "1  91020002002000  2019      1    1        0.0\n",
      "2  91020002003000  2019      1    1        0.0\n",
      "3  91020002004000  2019      1    1        0.0\n",
      "4  91020002005000  2019      1    1        0.0\n"
     ]
    }
   ],
   "source": [
    "# read rainfall data\n",
    "rainfall_data = pd.read_csv(files['rainfall_data'])\n",
    "print(rainfall_data.head())"
   ]
  },
  {
   "cell_type": "code",
   "execution_count": 11,
   "id": "3501214b-8803-4451-bd6f-77646d16b01c",
   "metadata": {},
   "outputs": [
    {
     "name": "stdout",
     "output_type": "stream",
     "text": [
      "        region_id  year  month  day  daily_avg\n",
      "0  91020002001000  2019      1    1  73.918510\n",
      "1  91020002002000  2019      1    1  78.260941\n",
      "2  91020002003000  2019      1    1  76.963333\n",
      "3  91020002004000  2019      1    1  72.042030\n",
      "4  91020002005000  2019      1    1  73.839371\n"
     ]
    }
   ],
   "source": [
    "# read ground water data\n",
    "groundwater_data = pd.read_csv(files['groundwater_data'])\n",
    "print(groundwater_data.head())"
   ]
  },
  {
   "cell_type": "code",
   "execution_count": 12,
   "id": "a3c78c14-1838-4dda-b8d5-eafd8dc0c5e0",
   "metadata": {},
   "outputs": [
    {
     "name": "stdout",
     "output_type": "stream",
     "text": [
      "        region_id  year  month  day  daily_avg\n",
      "0  91020002001000  2019      5    1  31.747370\n",
      "1  91020002002000  2019      5    1  31.424524\n",
      "2  91020002003000  2019      5    1  31.748835\n",
      "3  91020002004000  2019      5    1  31.483820\n",
      "4  91020002005000  2019      5    1  31.538752\n"
     ]
    }
   ],
   "source": [
    "# read temperature data\n",
    "temperature_data = pd.read_csv(files['temperature_data'])\n",
    "print(temperature_data.head())"
   ]
  }
 ],
 "metadata": {
  "kernelspec": {
   "display_name": ".venv",
   "language": "python",
   "name": "python3"
  },
  "language_info": {
   "codemirror_mode": {
    "name": "ipython",
    "version": 3
   },
   "file_extension": ".py",
   "mimetype": "text/x-python",
   "name": "python",
   "nbconvert_exporter": "python",
   "pygments_lexer": "ipython3",
   "version": "3.10.15"
  }
 },
 "nbformat": 4,
 "nbformat_minor": 5
}
